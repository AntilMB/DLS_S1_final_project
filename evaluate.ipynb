{
 "cells": [
  {
   "cell_type": "code",
   "execution_count": null,
   "id": "536d72f7",
   "metadata": {},
   "outputs": [],
   "source": [
    "%load_ext autoreload\n",
    "%autoreload 2"
   ]
  },
  {
   "cell_type": "code",
   "execution_count": null,
   "id": "762416ca",
   "metadata": {},
   "outputs": [],
   "source": [
    "import torch\n",
    "import torch.nn as nn\n",
    "\n",
    "from torch.optim import lr_scheduler\n",
    "from torch.utils.data import DataLoader"
   ]
  },
  {
   "cell_type": "code",
   "execution_count": null,
   "id": "d8e13188",
   "metadata": {},
   "outputs": [],
   "source": [
    "import numpy as np\n",
    "from tqdm.autonotebook import tqdm"
   ]
  },
  {
   "cell_type": "code",
   "execution_count": null,
   "id": "3c7259e4",
   "metadata": {},
   "outputs": [],
   "source": [
    "import matplotlib.pyplot as plt\n",
    "from IPython.display import clear_output"
   ]
  },
  {
   "cell_type": "code",
   "execution_count": null,
   "id": "dcd752ef",
   "metadata": {},
   "outputs": [],
   "source": [
    "from cycle_gan.model.models import CycleGan\n",
    "from cycle_gan.data.datasets import ImgDataset\n",
    "from cycle_gan.utils import show_image, show_images, show_epoch_res"
   ]
  },
  {
   "cell_type": "code",
   "execution_count": null,
   "id": "bb872362",
   "metadata": {},
   "outputs": [],
   "source": [
    "device = torch.device('cuda') if torch.cuda.is_available() else torch.device('cpu')\n",
    "device"
   ]
  },
  {
   "cell_type": "markdown",
   "id": "f2d31f31-26bb-4a63-a8fb-959b90b2d99e",
   "metadata": {},
   "source": [
    "# Selfie"
   ]
  },
  {
   "cell_type": "code",
   "execution_count": null,
   "id": "34aefaea",
   "metadata": {},
   "outputs": [],
   "source": [
    "train_dataset = ImgDataset('datasets/selfie_dataset/', mode='train', image_size=(256, 256))\n",
    "test_dataset = ImgDataset('datasets/selfie_dataset/', mode='test', image_size=(256, 256))\n",
    "\n",
    "path = 'selfie'\n",
    "\n",
    "print(len(train_dataset), len(test_dataset))"
   ]
  },
  {
   "cell_type": "code",
   "execution_count": null,
   "id": "22e0ce6b",
   "metadata": {},
   "outputs": [],
   "source": [
    "model = CycleGan(n_residual=9, \n",
    "                 device=device\n",
    "                )\n",
    "\n",
    "model.load_state_dict(torch.load('checkpoints/last_CycleGan_cage.pth'))\n",
    "model.eval();"
   ]
  },
  {
   "cell_type": "markdown",
   "id": "31057034-a42a-450c-8cfa-09676d1910c0",
   "metadata": {},
   "source": [
    "# Zebra"
   ]
  },
  {
   "cell_type": "code",
   "execution_count": null,
   "id": "66493c6d-84ba-4111-b100-12b02daa3628",
   "metadata": {},
   "outputs": [],
   "source": [
    "train_dataset = ImgDataset('datasets/horse2zebra/', mode='train', image_size=(256, 256))\n",
    "test_dataset = ImgDataset('datasets/horse2zebra/', mode='test', image_size=(256, 256))\n",
    "\n",
    "path = 'zebra'\n",
    "\n",
    "print(len(train_dataset), len(test_dataset))"
   ]
  },
  {
   "cell_type": "code",
   "execution_count": null,
   "id": "ec37ece2-cd45-41bf-b281-1c603deef49e",
   "metadata": {},
   "outputs": [],
   "source": [
    "model = CycleGan(n_residual=9, \n",
    "                 device=device\n",
    "                )\n",
    "\n",
    "model.load_state_dict(torch.load('checkpoints/last_CycleGan.pth'))\n",
    "model.eval();"
   ]
  },
  {
   "cell_type": "markdown",
   "id": "39a72418",
   "metadata": {},
   "source": [
    "# Test"
   ]
  },
  {
   "cell_type": "code",
   "execution_count": null,
   "id": "ddd5c6ac",
   "metadata": {},
   "outputs": [],
   "source": [
    "train_dataLoader = DataLoader(train_dataset, batch_size=1, shuffle=True, num_workers=3)\n",
    "test_dataLoader = DataLoader(test_dataset, batch_size=1, shuffle=True, num_workers=3)"
   ]
  },
  {
   "cell_type": "code",
   "execution_count": null,
   "id": "e0536f41",
   "metadata": {},
   "outputs": [],
   "source": [
    "with torch.no_grad():\n",
    "    for idx, data in enumerate(test_dataLoader):\n",
    "        pred =  model.test_step(data)\n",
    "        show_epoch_res(pred)\n",
    "        plt.savefig(f'processed_img/{path}/{idx:03d}.jpg', pad_inches=0, transparent=True)\n",
    "        \n",
    "        if idx > 100:\n",
    "            break"
   ]
  },
  {
   "cell_type": "code",
   "execution_count": null,
   "id": "f16dde1d-8222-43cc-a909-a5ea68246d74",
   "metadata": {},
   "outputs": [],
   "source": []
  }
 ],
 "metadata": {
  "kernelspec": {
   "display_name": "Python 3 (ipykernel)",
   "language": "python",
   "name": "python3"
  },
  "language_info": {
   "codemirror_mode": {
    "name": "ipython",
    "version": 3
   },
   "file_extension": ".py",
   "mimetype": "text/x-python",
   "name": "python",
   "nbconvert_exporter": "python",
   "pygments_lexer": "ipython3",
   "version": "3.7.12"
  }
 },
 "nbformat": 4,
 "nbformat_minor": 5
}
