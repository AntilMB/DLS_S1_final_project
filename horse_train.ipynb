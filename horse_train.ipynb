{
 "cells": [
  {
   "cell_type": "code",
   "execution_count": null,
   "id": "536d72f7",
   "metadata": {},
   "outputs": [],
   "source": [
    "%load_ext autoreload\n",
    "%autoreload 2"
   ]
  },
  {
   "cell_type": "code",
   "execution_count": null,
   "id": "762416ca",
   "metadata": {},
   "outputs": [],
   "source": [
    "import torch\n",
    "import torch.nn as nn\n",
    "\n",
    "from torch.optim import lr_scheduler\n",
    "from torch.utils.data import DataLoader"
   ]
  },
  {
   "cell_type": "code",
   "execution_count": null,
   "id": "d8e13188",
   "metadata": {},
   "outputs": [],
   "source": [
    "import numpy as np\n",
    "from tqdm.autonotebook import tqdm"
   ]
  },
  {
   "cell_type": "code",
   "execution_count": null,
   "id": "3c7259e4",
   "metadata": {},
   "outputs": [],
   "source": [
    "import matplotlib.pyplot as plt\n",
    "from IPython.display import clear_output"
   ]
  },
  {
   "cell_type": "code",
   "execution_count": null,
   "id": "dcd752ef",
   "metadata": {},
   "outputs": [],
   "source": [
    "from cycle_gan.model.models import CycleGan\n",
    "from cycle_gan.data.datasets import ImgDataset\n",
    "from cycle_gan.utils import show_image, show_images, show_epoch_res"
   ]
  },
  {
   "cell_type": "code",
   "execution_count": null,
   "id": "bb872362",
   "metadata": {},
   "outputs": [],
   "source": [
    "device = torch.device('cuda') if torch.cuda.is_available() else torch.device('cpu')\n",
    "device"
   ]
  },
  {
   "cell_type": "code",
   "execution_count": null,
   "id": "34aefaea",
   "metadata": {},
   "outputs": [],
   "source": [
    "train_dataset = ImgDataset('../pytorch-CycleGAN-and-pix2pix/datasets/horse2zebra/', mode='train')\n",
    "test_dataset = ImgDataset('../pytorch-CycleGAN-and-pix2pix/datasets/horse2zebra/', mode='test')\n",
    "\n",
    "print(len(train_dataset), len(test_dataset))"
   ]
  },
  {
   "cell_type": "code",
   "execution_count": null,
   "id": "ddd5c6ac",
   "metadata": {},
   "outputs": [],
   "source": [
    "train_dataLoader = DataLoader(train_dataset, batch_size=1, shuffle=True)\n",
    "test_dataLoader = DataLoader(test_dataset, batch_size=1, shuffle=False)"
   ]
  },
  {
   "cell_type": "code",
   "execution_count": null,
   "id": "22e0ce6b",
   "metadata": {},
   "outputs": [],
   "source": [
    "model = CycleGan(n_residual=6, \n",
    "                 device=device\n",
    "                )"
   ]
  },
  {
   "cell_type": "markdown",
   "id": "af7d00d1",
   "metadata": {},
   "source": [
    "# Train"
   ]
  },
  {
   "cell_type": "code",
   "execution_count": null,
   "id": "69666532",
   "metadata": {
    "code_folding": []
   },
   "outputs": [],
   "source": [
    "for epoch in tqdm(range(100)):\n",
    "    print('start epoch: {epoch}')\n",
    "    \n",
    "    for data in tqdm(train_dataLoader):\n",
    "        model.train_step(data)    \n",
    "        \n",
    "    for data in test_dataLoader:\n",
    "        pred =  model.test_step(data)\n",
    "        break\n",
    "    \n",
    "    torch.save(model.state_dict(), f'checkpoints/CycleGan_epoch_{epoch:03d}.pth')       \n",
    "    clear_output(wait=True)\n",
    "    show_epoch_res(pred)  \n",
    "    plt.savefig(f'val_img/{epoch:03d}.png', pad_inches=0, transparent=True)"
   ]
  },
  {
   "cell_type": "markdown",
   "id": "39a72418",
   "metadata": {},
   "source": [
    "# Test"
   ]
  },
  {
   "cell_type": "code",
   "execution_count": null,
   "id": "e0536f41",
   "metadata": {},
   "outputs": [],
   "source": [
    "for idx, data in enumerate(test_dataLoader):\n",
    "    pred =  model.test_step(data)\n",
    "    show_epoch_res(pred)\n",
    "    plt.savefig(f'processed_img/{idx:03d}.png', pad_inches=0, transparent=True)"
   ]
  },
  {
   "cell_type": "markdown",
   "id": "e77bc003",
   "metadata": {},
   "source": [
    "Часть изображений трансформированны достаточно хорошо, часть с артифактами\n",
    "В целом, можно заметить тенденцию, что чем более \"чисто\" изображение лошади\\зебро, тем лучше происходит наложение стиля"
   ]
  }
 ],
 "metadata": {
  "kernelspec": {
   "display_name": "Python 3",
   "language": "python",
   "name": "python3"
  },
  "language_info": {
   "codemirror_mode": {
    "name": "ipython",
    "version": 3
   },
   "file_extension": ".py",
   "mimetype": "text/x-python",
   "name": "python",
   "nbconvert_exporter": "python",
   "pygments_lexer": "ipython3",
   "version": "3.7.10"
  }
 },
 "nbformat": 4,
 "nbformat_minor": 5
}
